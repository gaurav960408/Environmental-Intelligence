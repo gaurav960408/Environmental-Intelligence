{
 "cells": [
  {
   "cell_type": "markdown",
   "metadata": {},
   "source": [
    "# Usage estimation for Above Ground Biomass\n",
    "\n",
    "<b>Table of Contents</b>\n",
    "\n",
    "- Overview\n",
    "- Setup\n",
    "    - Get authentication token\n",
    "- Query to estimate usage\n",
    "    - Understanding the output\n",
    "\n",
    "## Overview\n",
    "\n",
    "In this section, we leverage the `dry run` functionality of the Geospatial APIs to estimate the usage in bytes for a V3 Above Ground Biomass query, based on the specified spatial and temporal ranges. By leveraging this feature, users can get a better understanding of resource consumption before actually running the queries.\n"
   ]
  },
  {
   "cell_type": "markdown",
   "metadata": {},
   "source": [
    "## Setup\n",
    "\n",
    "Before starting, you have to install IBM EI Geospatial python SDK i.e ibmpairs and other modules needed to run this sample, mentioned in the below cell.\n",
    "\n",
    "<b>Note:</b> To run this notebook seamlessly, you have to first configure your Geospatial APIs' credentials in a file named `secrets.ini` in the below format:\n",
    "\n",
    "```\n",
    "[EI]\n",
    "api.api_key = <Your Geospatial APIs API key>\n",
    "api.tenant_id = <Your Geospatial APIs Tenant ID>\n",
    "api.org_id = <Your Geospatial APIs Org ID>\n",
    "\n",
    "```\n",
    "Keep the secrets.ini file at an appropriate relative location of this notebook. For example, as specified in the config below.\n",
    "\n",
    "```config.read('../../../auth/secrets.ini')```"
   ]
  },
  {
   "cell_type": "code",
   "execution_count": 1,
   "metadata": {},
   "outputs": [
    {
     "name": "stdout",
     "output_type": "stream",
     "text": [
      "Requirement already satisfied: ibmpairs in /Library/Frameworks/Python.framework/Versions/3.13/lib/python3.13/site-packages (3.1.9)\n",
      "Requirement already satisfied: aiohttp>=3.0.0 in /Library/Frameworks/Python.framework/Versions/3.13/lib/python3.13/site-packages (from ibmpairs) (3.11.12)\n",
      "Requirement already satisfied: fs in /Library/Frameworks/Python.framework/Versions/3.13/lib/python3.13/site-packages (from ibmpairs) (2.4.16)\n",
      "Requirement already satisfied: future in /Library/Frameworks/Python.framework/Versions/3.13/lib/python3.13/site-packages (from ibmpairs) (1.0.0)\n",
      "Requirement already satisfied: geojson in /Library/Frameworks/Python.framework/Versions/3.13/lib/python3.13/site-packages (from ibmpairs) (3.2.0)\n",
      "Requirement already satisfied: ibm-cos-sdk in /Library/Frameworks/Python.framework/Versions/3.13/lib/python3.13/site-packages (from ibmpairs) (2.14.0)\n",
      "Requirement already satisfied: jsonschema in /Library/Frameworks/Python.framework/Versions/3.13/lib/python3.13/site-packages (from ibmpairs) (4.23.0)\n",
      "Requirement already satisfied: numpy>=1.18.1 in /Library/Frameworks/Python.framework/Versions/3.13/lib/python3.13/site-packages (from ibmpairs) (2.2.3)\n",
      "Requirement already satisfied: pandas>=1.0.1 in /Library/Frameworks/Python.framework/Versions/3.13/lib/python3.13/site-packages (from ibmpairs) (2.2.3)\n",
      "Requirement already satisfied: Pillow>=10.2.0 in /Library/Frameworks/Python.framework/Versions/3.13/lib/python3.13/site-packages (from ibmpairs) (11.1.0)\n",
      "Requirement already satisfied: polling in /Library/Frameworks/Python.framework/Versions/3.13/lib/python3.13/site-packages (from ibmpairs) (0.3.2)\n",
      "Requirement already satisfied: pytz in /Library/Frameworks/Python.framework/Versions/3.13/lib/python3.13/site-packages (from ibmpairs) (2025.1)\n",
      "Requirement already satisfied: rasterio in /Library/Frameworks/Python.framework/Versions/3.13/lib/python3.13/site-packages (from ibmpairs) (1.4.3)\n",
      "Requirement already satisfied: Requests>=2.4 in /Library/Frameworks/Python.framework/Versions/3.13/lib/python3.13/site-packages (from ibmpairs) (2.32.2)\n",
      "Requirement already satisfied: Shapely in /Library/Frameworks/Python.framework/Versions/3.13/lib/python3.13/site-packages (from ibmpairs) (2.0.7)\n",
      "Requirement already satisfied: tableschema in /Library/Frameworks/Python.framework/Versions/3.13/lib/python3.13/site-packages (from ibmpairs) (1.21.0)\n",
      "Requirement already satisfied: aiohappyeyeballs>=2.3.0 in /Library/Frameworks/Python.framework/Versions/3.13/lib/python3.13/site-packages (from aiohttp>=3.0.0->ibmpairs) (2.4.6)\n",
      "Requirement already satisfied: aiosignal>=1.1.2 in /Library/Frameworks/Python.framework/Versions/3.13/lib/python3.13/site-packages (from aiohttp>=3.0.0->ibmpairs) (1.3.2)\n",
      "Requirement already satisfied: attrs>=17.3.0 in /Library/Frameworks/Python.framework/Versions/3.13/lib/python3.13/site-packages (from aiohttp>=3.0.0->ibmpairs) (25.1.0)\n",
      "Requirement already satisfied: frozenlist>=1.1.1 in /Library/Frameworks/Python.framework/Versions/3.13/lib/python3.13/site-packages (from aiohttp>=3.0.0->ibmpairs) (1.5.0)\n",
      "Requirement already satisfied: multidict<7.0,>=4.5 in /Library/Frameworks/Python.framework/Versions/3.13/lib/python3.13/site-packages (from aiohttp>=3.0.0->ibmpairs) (6.1.0)\n",
      "Requirement already satisfied: propcache>=0.2.0 in /Library/Frameworks/Python.framework/Versions/3.13/lib/python3.13/site-packages (from aiohttp>=3.0.0->ibmpairs) (0.2.1)\n",
      "Requirement already satisfied: yarl<2.0,>=1.17.0 in /Library/Frameworks/Python.framework/Versions/3.13/lib/python3.13/site-packages (from aiohttp>=3.0.0->ibmpairs) (1.18.3)\n",
      "Requirement already satisfied: python-dateutil>=2.8.2 in /Users/gauravkumar/Library/Python/3.13/lib/python/site-packages (from pandas>=1.0.1->ibmpairs) (2.9.0.post0)\n",
      "Requirement already satisfied: tzdata>=2022.7 in /Library/Frameworks/Python.framework/Versions/3.13/lib/python3.13/site-packages (from pandas>=1.0.1->ibmpairs) (2025.1)\n",
      "Requirement already satisfied: charset-normalizer<4,>=2 in /Library/Frameworks/Python.framework/Versions/3.13/lib/python3.13/site-packages (from Requests>=2.4->ibmpairs) (3.4.1)\n",
      "Requirement already satisfied: idna<4,>=2.5 in /Library/Frameworks/Python.framework/Versions/3.13/lib/python3.13/site-packages (from Requests>=2.4->ibmpairs) (3.10)\n",
      "Requirement already satisfied: urllib3<3,>=1.21.1 in /Library/Frameworks/Python.framework/Versions/3.13/lib/python3.13/site-packages (from Requests>=2.4->ibmpairs) (1.26.20)\n",
      "Requirement already satisfied: certifi>=2017.4.17 in /Library/Frameworks/Python.framework/Versions/3.13/lib/python3.13/site-packages (from Requests>=2.4->ibmpairs) (2025.1.31)\n",
      "Requirement already satisfied: appdirs~=1.4.3 in /Library/Frameworks/Python.framework/Versions/3.13/lib/python3.13/site-packages (from fs->ibmpairs) (1.4.4)\n",
      "Requirement already satisfied: setuptools in /Library/Frameworks/Python.framework/Versions/3.13/lib/python3.13/site-packages (from fs->ibmpairs) (75.8.0)\n",
      "Requirement already satisfied: six~=1.10 in /Users/gauravkumar/Library/Python/3.13/lib/python/site-packages (from fs->ibmpairs) (1.17.0)\n",
      "Requirement already satisfied: ibm-cos-sdk-core==2.14.0 in /Library/Frameworks/Python.framework/Versions/3.13/lib/python3.13/site-packages (from ibm-cos-sdk->ibmpairs) (2.14.0)\n",
      "Requirement already satisfied: ibm-cos-sdk-s3transfer==2.14.0 in /Library/Frameworks/Python.framework/Versions/3.13/lib/python3.13/site-packages (from ibm-cos-sdk->ibmpairs) (2.14.0)\n",
      "Requirement already satisfied: jmespath<=1.0.1,>=0.10.0 in /Library/Frameworks/Python.framework/Versions/3.13/lib/python3.13/site-packages (from ibm-cos-sdk->ibmpairs) (1.0.1)\n",
      "Requirement already satisfied: jsonschema-specifications>=2023.03.6 in /Library/Frameworks/Python.framework/Versions/3.13/lib/python3.13/site-packages (from jsonschema->ibmpairs) (2024.10.1)\n",
      "Requirement already satisfied: referencing>=0.28.4 in /Library/Frameworks/Python.framework/Versions/3.13/lib/python3.13/site-packages (from jsonschema->ibmpairs) (0.36.2)\n",
      "Requirement already satisfied: rpds-py>=0.7.1 in /Library/Frameworks/Python.framework/Versions/3.13/lib/python3.13/site-packages (from jsonschema->ibmpairs) (0.22.3)\n",
      "Requirement already satisfied: affine in /Library/Frameworks/Python.framework/Versions/3.13/lib/python3.13/site-packages (from rasterio->ibmpairs) (2.4.0)\n",
      "Requirement already satisfied: click>=4.0 in /Library/Frameworks/Python.framework/Versions/3.13/lib/python3.13/site-packages (from rasterio->ibmpairs) (8.1.8)\n",
      "Requirement already satisfied: cligj>=0.5 in /Library/Frameworks/Python.framework/Versions/3.13/lib/python3.13/site-packages (from rasterio->ibmpairs) (0.7.2)\n",
      "Requirement already satisfied: click-plugins in /Library/Frameworks/Python.framework/Versions/3.13/lib/python3.13/site-packages (from rasterio->ibmpairs) (1.1.1)\n",
      "Requirement already satisfied: pyparsing in /Library/Frameworks/Python.framework/Versions/3.13/lib/python3.13/site-packages (from rasterio->ibmpairs) (3.2.1)\n",
      "Requirement already satisfied: cached-property>=1.5 in /Library/Frameworks/Python.framework/Versions/3.13/lib/python3.13/site-packages (from tableschema->ibmpairs) (2.0.1)\n",
      "Requirement already satisfied: unicodecsv>=0.14 in /Library/Frameworks/Python.framework/Versions/3.13/lib/python3.13/site-packages (from tableschema->ibmpairs) (0.14.1)\n",
      "Requirement already satisfied: isodate>=0.5.4 in /Library/Frameworks/Python.framework/Versions/3.13/lib/python3.13/site-packages (from tableschema->ibmpairs) (0.7.2)\n",
      "Requirement already satisfied: rfc3986>=1.1.0 in /Library/Frameworks/Python.framework/Versions/3.13/lib/python3.13/site-packages (from tableschema->ibmpairs) (2.0.0)\n",
      "Requirement already satisfied: dataflows-tabulator>=1.54.1 in /Library/Frameworks/Python.framework/Versions/3.13/lib/python3.13/site-packages (from tableschema->ibmpairs) (1.54.3)\n",
      "Requirement already satisfied: chardet>=3.0 in /Library/Frameworks/Python.framework/Versions/3.13/lib/python3.13/site-packages (from dataflows-tabulator>=1.54.1->tableschema->ibmpairs) (5.2.0)\n",
      "Requirement already satisfied: boto3>=1.9 in /Library/Frameworks/Python.framework/Versions/3.13/lib/python3.13/site-packages (from dataflows-tabulator>=1.54.1->tableschema->ibmpairs) (1.36.23)\n",
      "Requirement already satisfied: ijson>=3.0.3 in /Library/Frameworks/Python.framework/Versions/3.13/lib/python3.13/site-packages (from dataflows-tabulator>=1.54.1->tableschema->ibmpairs) (3.3.0)\n",
      "Requirement already satisfied: jsonlines>=1.1 in /Library/Frameworks/Python.framework/Versions/3.13/lib/python3.13/site-packages (from dataflows-tabulator>=1.54.1->tableschema->ibmpairs) (4.0.0)\n",
      "Requirement already satisfied: sqlalchemy>=0.9.6 in /Library/Frameworks/Python.framework/Versions/3.13/lib/python3.13/site-packages (from dataflows-tabulator>=1.54.1->tableschema->ibmpairs) (2.0.38)\n",
      "Requirement already satisfied: linear-tsv>=1.0 in /Library/Frameworks/Python.framework/Versions/3.13/lib/python3.13/site-packages (from dataflows-tabulator>=1.54.1->tableschema->ibmpairs) (1.1.0)\n",
      "Requirement already satisfied: xlrd>=1.0 in /Library/Frameworks/Python.framework/Versions/3.13/lib/python3.13/site-packages (from dataflows-tabulator>=1.54.1->tableschema->ibmpairs) (2.0.1)\n",
      "Requirement already satisfied: openpyxl>=2.6 in /Library/Frameworks/Python.framework/Versions/3.13/lib/python3.13/site-packages (from dataflows-tabulator>=1.54.1->tableschema->ibmpairs) (3.1.5)\n",
      "Requirement already satisfied: botocore<1.37.0,>=1.36.23 in /Library/Frameworks/Python.framework/Versions/3.13/lib/python3.13/site-packages (from boto3>=1.9->dataflows-tabulator>=1.54.1->tableschema->ibmpairs) (1.36.23)\n",
      "Requirement already satisfied: s3transfer<0.12.0,>=0.11.0 in /Library/Frameworks/Python.framework/Versions/3.13/lib/python3.13/site-packages (from boto3>=1.9->dataflows-tabulator>=1.54.1->tableschema->ibmpairs) (0.11.2)\n",
      "Requirement already satisfied: et-xmlfile in /Library/Frameworks/Python.framework/Versions/3.13/lib/python3.13/site-packages (from openpyxl>=2.6->dataflows-tabulator>=1.54.1->tableschema->ibmpairs) (2.0.0)\n",
      "Requirement already satisfied: typing-extensions>=4.6.0 in /Library/Frameworks/Python.framework/Versions/3.13/lib/python3.13/site-packages (from sqlalchemy>=0.9.6->dataflows-tabulator>=1.54.1->tableschema->ibmpairs) (4.12.2)\n",
      "\n",
      "\u001b[1m[\u001b[0m\u001b[34;49mnotice\u001b[0m\u001b[1;39;49m]\u001b[0m\u001b[39;49m A new release of pip is available: \u001b[0m\u001b[31;49m24.3.1\u001b[0m\u001b[39;49m -> \u001b[0m\u001b[32;49m25.0.1\u001b[0m\n",
      "\u001b[1m[\u001b[0m\u001b[34;49mnotice\u001b[0m\u001b[1;39;49m]\u001b[0m\u001b[39;49m To update, run: \u001b[0m\u001b[32;49mpip3 install --upgrade pip\u001b[0m\n",
      "Note: you may need to restart the kernel to use updated packages.\n",
      "Requirement already satisfied: configparser in /Library/Frameworks/Python.framework/Versions/3.13/lib/python3.13/site-packages (7.1.0)\n",
      "\n",
      "\u001b[1m[\u001b[0m\u001b[34;49mnotice\u001b[0m\u001b[1;39;49m]\u001b[0m\u001b[39;49m A new release of pip is available: \u001b[0m\u001b[31;49m24.3.1\u001b[0m\u001b[39;49m -> \u001b[0m\u001b[32;49m25.0.1\u001b[0m\n",
      "\u001b[1m[\u001b[0m\u001b[34;49mnotice\u001b[0m\u001b[1;39;49m]\u001b[0m\u001b[39;49m To update, run: \u001b[0m\u001b[32;49mpip3 install --upgrade pip\u001b[0m\n",
      "Note: you may need to restart the kernel to use updated packages.\n"
     ]
    }
   ],
   "source": [
    "%pip install ibmpairs\n",
    "%pip install configparser"
   ]
  },
  {
   "cell_type": "code",
   "execution_count": 2,
   "metadata": {},
   "outputs": [],
   "source": [
    "import ibmpairs.client as client\n",
    "import ibmpairs.query as query\n",
    "import configparser"
   ]
  },
  {
   "cell_type": "markdown",
   "metadata": {},
   "source": [
    "### Get authentication token\n",
    "\n",
    "Now, let's create a client object using the API_KEY, TENANT_ID (or CLIENT_ID) and ORG_ID to create an authenticated HTTP client Authentication token using 'ibmpairs.client' module, to use it in the subsequent steps."
   ]
  },
  {
   "cell_type": "code",
   "execution_count": 4,
   "metadata": {},
   "outputs": [
    {
     "name": "stdout",
     "output_type": "stream",
     "text": [
      "2025-03-10 12:53:15 - paw - INFO - The client authentication method is assumed to be OAuth2.\n",
      "2025-03-10 12:53:15 - paw - INFO - Legacy Environment is False\n",
      "2025-03-10 12:53:15 - paw - INFO - The authentication api key type is assumed to be IBM EIS, because the api key prefix 'PHX' is present.\n",
      "2025-03-10 12:53:17 - paw - INFO - Authentication success.\n",
      "2025-03-10 12:53:17 - paw - INFO - HOST: https://api.ibm.com/geospatial/run/na/core/v3\n"
     ]
    }
   ],
   "source": [
    "config = configparser.RawConfigParser()\n",
    "config.read('../../../auth/secrets.ini')\n",
    "\n",
    "EI_ORG_ID     = config.get('EI', 'api.org_id') \n",
    "EI_TENANT_ID  = config.get('EI', 'api.tenant_id') \n",
    "EI_APIKEY     = config.get('EI', 'api.api_key')\n",
    "\n",
    "EI_client_v3 = client.get_client(org_id    = EI_ORG_ID,\n",
    "                                  tenant_id = EI_TENANT_ID,\n",
    "                                  api_key     = EI_APIKEY,\n",
    "                                  version   = 3\n",
    "                                )"
   ]
  },
  {
   "cell_type": "markdown",
   "metadata": {},
   "source": [
    "## Query to estimate usage\n",
    "\n",
    "The following code snippet submits the query for the AGB Data Layer <b><i>above-ground-biomass</i></b> for an area in Brazil spanning approximately 10,000 hectares for the year 2023 using Geospatial APIs V3 query API with the `dryrun` enabled to estimate resource usage.\n",
    "\n",
    "We will go ahead and submit the query and observe the output."
   ]
  },
  {
   "cell_type": "code",
   "execution_count": null,
   "metadata": {},
   "outputs": [
    {
     "name": "stdout",
     "output_type": "stream",
     "text": [
      "2025-03-10 15:45:17 - paw - INFO - TASK: submit STARTING.\n",
      "2025-03-10 15:45:18 - paw - INFO - The authentication api key type is assumed to be IBM EIS, because the api key prefix 'PHX' is present; trying to refresh.\n",
      "2025-03-10 15:45:18 - paw - INFO - Attempting to refresh authentication token.\n",
      "2025-03-10 15:45:19 - paw - INFO - The token was successfully refreshed.\n",
      "2025-03-10 15:45:21 - paw - INFO - TASK: submit COMPLETED.\n",
      "{\n",
      "    \"info\": {\n",
      "        \"count\": 0,\n",
      "        \"interactive_max_count\": 0,\n",
      "        \"max_count\": 0,\n",
      "        \"max_usage\": 6442450.944,\n",
      "        \"usage\": 766968,\n",
      "        \"usage_unit\": \"bytes\"\n",
      "    }\n",
      "}\n"
     ]
    }
   ],
   "source": [
    "above_ground_biomass_query_object = query.submit({ \n",
    "                          \"name\": \"Above Ground Biomass - usage calculation\",\n",
    "                          \"dryRun\": True,\n",
    "                          \"spatial\": {\n",
    "\t\t                        \"type\": \"poly\",\n",
    "\t                        \t\"polygon\": {\n",
    "\t\t                    \t\"wkt\": \"MultiPolygon (((-60.2204895650394505 -2.79506905911651016, -60.1358544093380516 -2.78746008937848666, -60.12344593561142858 -2.88146013091130149, -60.21522181675928209 -2.88871791743064721, -60.2204895650394505 -2.79506905911651016)))\"\n",
    "\t                    \t    }\n",
    "\t                     },\n",
    "\t                    \"temporal\": {\n",
    "\t                    \t\"intervals\": [\n",
    "\t\t                     \t{\n",
    "\t\t\t                  \t\"start\": \"2020-01-01 00:00:00\",\n",
    "\t\t\t                \t\"end\": \"2021-12-01 00:00:00\"\n",
    "\t\t                 \t   }\n",
    "\t                \t   ]\n",
    "\t                   },\n",
    "                          \"layers\": [\n",
    "                              {\n",
    "\t\t                           \"type\": \"raster\",\n",
    "\t\t\t                       \"id\": \"38000\",\n",
    "\t\t\t                       \"temporal\": {\n",
    "\t\t\t                \t    \"intervals\": [\n",
    "\t\t\t\t                       {\n",
    "\t\t\t\t\t            \t      \"start\": \"2020-01-01T00:00:00Z\",\n",
    "                                          \"end\": \"2020-01-01T00:00:00Z\"\n",
    "\t\t\t\t            \t       } \n",
    "\t\t\t\t                  ]\n",
    "\t\t\t                        },\n",
    "\t\t                     \t\"output\": False\n",
    "                              }\n",
    "                            ]\n",
    " },client=EI_client_v3)\n",
    "\n",
    "print(above_ground_biomass_query_object.submit_response)"
   ]
  },
  {
   "cell_type": "markdown",
   "metadata": {},
   "source": [
    "### Understanding the output\n",
    "The API response provides an estimated usage of 766968 bytes per API call when querying the Above Ground Biomass data for a 10,000-hectare plot in Brazil for the year 2023. Please note that the usage estimate increases with the addition of historical years and expansion of spatial area within the query. However, the estimate remains unchanged when future years are added, as it is calculated based on the historical years available in the query for which data exists.\n",
    "\n",
    "Similarly, usage can be calculated for different spatial and temporal ranges of interest, ensuring resource estimates tailored to specific query parameters."
   ]
  }
 ],
 "metadata": {
  "kernelspec": {
   "display_name": "Python 3",
   "language": "python",
   "name": "python3"
  },
  "language_info": {
   "codemirror_mode": {
    "name": "ipython",
    "version": 3
   },
   "file_extension": ".py",
   "mimetype": "text/x-python",
   "name": "python",
   "nbconvert_exporter": "python",
   "pygments_lexer": "ipython3",
   "version": "3.13.2"
  }
 },
 "nbformat": 4,
 "nbformat_minor": 4
}
